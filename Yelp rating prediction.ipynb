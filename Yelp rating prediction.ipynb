{
 "cells": [
  {
   "cell_type": "markdown",
   "metadata": {},
   "source": [
    "# Predicting Star Ratings\n"
   ]
  },
  {
   "cell_type": "code",
   "execution_count": 4,
   "metadata": {},
   "outputs": [],
   "source": [
    "import ujson as json\n",
    "import gzip\n",
    "\n",
    "with gzip.open('yelp_train_academic_dataset_business.json.gz') as f:\n",
    "    data = [json.loads(line) for line in f]"
   ]
  },
  {
   "cell_type": "code",
   "execution_count": 5,
   "metadata": {},
   "outputs": [],
   "source": [
    "star_ratings = [row['stars'] for row in data]"
   ]
  },
  {
   "cell_type": "markdown",
   "metadata": {},
   "source": [
    "## 1 city model using city location"
   ]
  },
  {
   "cell_type": "markdown",
   "metadata": {},
   "source": [
    "build a custom estimator that will make a prediction based solely on the city of a venue. \n",
    "\n",
    "This custom estimator will have a `.fit()` method.  It will receive `data` as its argument `X` and `star_ratings` as `y`, and should repeat the calculation of the previous problem there.  Then the `.predict()` method can look up the average rating for the city of each record it receives."
   ]
  },
  {
   "cell_type": "code",
   "execution_count": 13,
   "metadata": {},
   "outputs": [],
   "source": [
    "from sklearn import base\n",
    "import numpy as np\n",
    "\n",
    "class CityEstimator(base.BaseEstimator, base.RegressorMixin):\n",
    "    \n",
    "    def __init__(self):\n",
    "        self.avg_stars = dict()\n",
    "    \n",
    "    def fit(self, X, y):\n",
    "        # Store the average rating per city in self.avg_stars\n",
    "        self.avg_stars = avg_stars\n",
    "        return self\n",
    "    \n",
    "    def predict(self, X):\n",
    "        return [self.avg_stars[row['city']] if row['city'] in avg_stars else np.mean(star_ratings) for row in X ]"
   ]
  },
  {
   "cell_type": "code",
   "execution_count": 14,
   "metadata": {},
   "outputs": [
    {
     "data": {
      "text/plain": [
       "CityEstimator()"
      ]
     },
     "execution_count": 14,
     "metadata": {},
     "output_type": "execute_result"
    }
   ],
   "source": [
    "city_est = CityEstimator()\n",
    "city_est.fit(data, star_ratings)"
   ]
  },
  {
   "cell_type": "markdown",
   "metadata": {},
   "source": [
    "## 2 latitude, longitude model"
   ]
  },
  {
   "cell_type": "markdown",
   "metadata": {},
   "source": [
    "Assume city location is correlated to ratings. Buit a colum selecter to extract latitude, longitude data and apply knn"
   ]
  },
  {
   "cell_type": "code",
   "execution_count": 18,
   "metadata": {},
   "outputs": [],
   "source": [
    "import pandas as pd\n",
    "df = pd.DataFrame(data)"
   ]
  },
  {
   "cell_type": "code",
   "execution_count": 19,
   "metadata": {},
   "outputs": [],
   "source": [
    "import pandas as pd\n",
    "class ColumnSelectTransformer(base.BaseEstimator, base.TransformerMixin):\n",
    "    \n",
    "    def __init__(self, col_names):\n",
    "        self.col_names = col_names  # We will need these in transform()\n",
    "    \n",
    "    def fit(self, X, y=None):\n",
    "        # This transformer doesn't need to learn anything about the data,\n",
    "        # so it can just return self without any further processing\n",
    "        return self\n",
    "    \n",
    "    def transform(self, X):\n",
    "        df= pd.DataFrame(X)\n",
    "        return df[self.col_names].values.tolist()\n",
    "        # Return an array with the same number of rows as X and one\n",
    "        # column for each in self.col_names"
   ]
  },
  {
   "cell_type": "code",
   "execution_count": 21,
   "metadata": {},
   "outputs": [
    {
     "data": {
      "text/plain": [
       "array([4. , 4.2, 4. , 3.8, 4.2])"
      ]
     },
     "execution_count": 21,
     "metadata": {},
     "output_type": "execute_result"
    }
   ],
   "source": [
    "from sklearn.neighbors import KNeighborsRegressor\n",
    "cst = ColumnSelectTransformer(['latitude', 'longitude'])\n",
    "data_transform = cst.fit_transform(data)\n",
    "knn = KNeighborsRegressor(n_neighbors=5)\n",
    "knn.fit(data_transform, star_ratings)\n",
    "test_data = data[:5]\n",
    "test_data_transform = cst.transform(test_data)\n",
    "knn.predict(test_data_transform)"
   ]
  },
  {
   "cell_type": "code",
   "execution_count": 22,
   "metadata": {},
   "outputs": [],
   "source": [
    "from sklearn.pipeline import Pipeline\n",
    "knn = KNeighborsRegressor()\n",
    "\n",
    "pipe = Pipeline([\n",
    "        # ColumnSelectTransformer\n",
    "        # KNeighborsRegressor\n",
    "        ('ColnumSelectTransformer',ColumnSelectTransformer(['latitude', 'longitude'])),('KNN',knn)\n",
    "    ])"
   ]
  },
  {
   "cell_type": "code",
   "execution_count": 23,
   "metadata": {},
   "outputs": [
    {
     "data": {
      "text/plain": [
       "array([4. , 4.2, 4. , 3.8, 4.2])"
      ]
     },
     "execution_count": 23,
     "metadata": {},
     "output_type": "execute_result"
    }
   ],
   "source": [
    "pipe.fit(data, star_ratings)\n",
    "pipe.predict(test_data)"
   ]
  },
  {
   "cell_type": "code",
   "execution_count": 159,
   "metadata": {},
   "outputs": [
    {
     "name": "stdout",
     "output_type": "stream",
     "text": [
      "0.019923405722102574\n",
      "89\n"
     ]
    }
   ],
   "source": [
    "from sklearn.model_selection import train_test_split, GridSearchCV, cross_val_score\n",
    "from sklearn import model_selection\n",
    "\n",
    "# xtrain,xtest,ytrain,ytest = train_test_split(data_transform,star_ratings,test_size = 0.3, shuffle = True,random_state=0)\n",
    "\n",
    "#random shuffle the data because there\n",
    "cv = model_selection.ShuffleSplit(n_splits = 20, test_size = 0.2, random_state=42)\n",
    "knn = KNeighborsRegressor()\n",
    "tune = [{'n_neighbors':list(range(5,100,4))}]\n",
    "\n",
    "model = GridSearchCV(knn,param_grid= tune,cv=cv)\n",
    "model.fit(data_transform,star_ratings)\n",
    "# model.fit(xtrain,ytrain)\n",
    "print(model.best_score_)\n",
    "print(model.best_estimator_.n_neighbors)"
   ]
  },
  {
   "cell_type": "markdown",
   "metadata": {},
   "source": [
    "plot the data to see the trend, we know that data should be shuffled"
   ]
  },
  {
   "cell_type": "code",
   "execution_count": 89,
   "metadata": {},
   "outputs": [
    {
     "data": {
      "text/plain": [
       "[<matplotlib.lines.Line2D at 0x7f34d2bbd3c8>]"
      ]
     },
     "execution_count": 89,
     "metadata": {},
     "output_type": "execute_result"
    },
    {
     "data": {
      "image/png": "[encoded data removed]",
      "text/plain": [
       "<Figure size 432x288 with 1 Axes>"
      ]
     },
     "metadata": {},
     "output_type": "display_data"
    }
   ],
   "source": [
    "from pandas import Series\n",
    "import matplotlib.pyplot as plt\n",
    "\n",
    "plt.plot(Series.rolling(Series(star_ratings), window=1000).mean())"
   ]
  },
  {
   "cell_type": "code",
   "execution_count": 24,
   "metadata": {},
   "outputs": [],
   "source": [
    "lat_long_est= Pipeline([\n",
    "        # ColumnSelectTransformer\n",
    "        # KNeighborsRegressor\n",
    "        ('ColnumSelectTransformer',ColumnSelectTransformer(['latitude', 'longitude'])),('KNN',KNeighborsRegressor(n_neighbors=89))\n",
    "    ]).fit(data,star_ratings)\n",
    "\n",
    "# lat_long_est= KNeighborsRegressor(n_neighbors=89)"
   ]
  },
  {
   "cell_type": "markdown",
   "metadata": {},
   "source": [
    "## 3 category model"
   ]
  },
  {
   "cell_type": "code",
   "execution_count": 206,
   "metadata": {},
   "outputs": [],
   "source": [
    "import pandas as pd\n",
    "class ColumnSelectTransformer(base.BaseEstimator, base.TransformerMixin):\n",
    "    \n",
    "    def __init__(self, col_names):\n",
    "        self.col_names = col_names  # We will need these in transform()\n",
    "    \n",
    "    def fit(self, X, y=None):\n",
    "        # This transformer doesn't need to learn anything about the data,\n",
    "        # so it can just return self without any further processing\n",
    "        return self\n",
    "    \n",
    "    def transform(self, X):\n",
    "        df= pd.DataFrame(X)\n",
    "        return df[self.col_names].values.tolist()\n",
    "        # Return an array with the same number of rows as X and one\n",
    "        # column for each in self.col_names\n",
    "        "
   ]
  },
  {
   "cell_type": "code",
   "execution_count": 27,
   "metadata": {},
   "outputs": [],
   "source": [
    "from sklearn.feature_extraction import DictVectorizer\n",
    "from collections import defaultdict\n",
    "class DictEncoder(base.BaseEstimator, base.TransformerMixin):\n",
    "    \n",
    "    def fit(self, X, y=None):\n",
    "        return self\n",
    "    \n",
    "    def transform(self, X):\n",
    "        emp = []\n",
    "        for i in range(len(X)):\n",
    "            dic = defaultdict(int)\n",
    "            for item in X[i][0]:\n",
    "                dic[item] +=1\n",
    "            emp.append(dict(dic))\n",
    "\n",
    "        return emp\n",
    "        # X will come in as a list of lists of lists.  Return a list of\n",
    "        # dictionaries corresponding to those inner lists."
   ]
  },
  {
   "cell_type": "markdown",
   "metadata": {},
   "source": [
    "Built a pipeline `ColumnSelectTransformer`, your `DictEncoder`, the `DictVectorizer`, and a regularized linear model, `Ridge Regression`"
   ]
  },
  {
   "cell_type": "code",
   "execution_count": 31,
   "metadata": {},
   "outputs": [],
   "source": [
    "from sklearn.pipeline import Pipeline\n",
    "from sklearn.linear_model import Ridge\n",
    "from sklearn.feature_extraction.text import TfidfTransformer\n",
    "\n",
    "pipe_cat = Pipeline([('Col', ColumnSelectTransformer(['categories'])),('encoder',DictEncoder()),\\\n",
    "                      ('Vectorizer',DictVectorizer(sparse=False)),('tfidf',TfidfTransformer()),('Ridge',Ridge(alpha = 6.3))])"
   ]
  },
  {
   "cell_type": "markdown",
   "metadata": {},
   "source": [
    "## 4 attribute model"
   ]
  },
  {
   "cell_type": "markdown",
   "metadata": {},
   "source": [
    "Extract data from dictionary within dictionay"
   ]
  },
  {
   "cell_type": "code",
   "execution_count": 38,
   "metadata": {},
   "outputs": [],
   "source": [
    "import collections\n",
    "\n",
    "def flatten(d, parent_key='', sep='_'):\n",
    "    items = []\n",
    "    for k, v in d.items():\n",
    "        new_key = parent_key + sep + k if parent_key else k\n",
    "        if isinstance(v, collections.MutableMapping):\n",
    "            items.extend(flatten(v, new_key, sep=sep).items())\n",
    "        else:\n",
    "            items.append((new_key, v*1))\n",
    "\n",
    "    dic=[]\n",
    "    for k,v in items:\n",
    "\n",
    "        if isinstance(v, str):\n",
    "            name = k+'_'+v\n",
    "            dic.append((name,1))\n",
    "        else:\n",
    "            dic.append((k,v))        \n",
    "\n",
    "    return dict(dic)\n",
    "\n",
    "class flatten_dict(base.BaseEstimator, base.TransformerMixin):\n",
    "        \n",
    "    def fit(self, X, y=None):\n",
    "        return self\n",
    "    \n",
    "    def transform(self, X):\n",
    "        output = []\n",
    "        for i in range(len(X)):\n",
    "            output.append(flatten(X[i][0]))\n",
    "            #clean empty {}\n",
    "#             out = list(filter(None,output))\n",
    "        return output\n",
    "    "
   ]
  },
  {
   "cell_type": "code",
   "execution_count": 39,
   "metadata": {},
   "outputs": [],
   "source": [
    "cc = ColumnSelectTransformer(col_names=['attributes']).fit_transform(data[:10])"
   ]
  },
  {
   "cell_type": "code",
   "execution_count": 40,
   "metadata": {},
   "outputs": [
    {
     "data": {
      "text/plain": [
       "(37938, 93)"
      ]
     },
     "execution_count": 40,
     "metadata": {},
     "output_type": "execute_result"
    }
   ],
   "source": [
    "pipe_data_attr = Pipeline([('Col', ColumnSelectTransformer(['attributes'])),('flat',flatten_dict()),\\\n",
    "                      ('Vectorizer',DictVectorizer(sparse=False))])\n",
    "data_attr = pipe_data_attr.fit_transform(data)\n",
    "data_attr.shape"
   ]
  },
  {
   "cell_type": "markdown",
   "metadata": {},
   "source": [
    "Built a linear Regression model and fit the residual using random forest to get better result"
   ]
  },
  {
   "cell_type": "code",
   "execution_count": 240,
   "metadata": {},
   "outputs": [],
   "source": [
    "from sklearn.linear_model import LinearRegression\n",
    "from sklearn.model_selection import cross_val_predict\n",
    "from sklearn import model_selection\n",
    "# cv = model_selection.ShuffleSplit(n_splits = 20, test_size = 0.2, random_state=42)\n",
    "# predicted = cross_val_predict(lr,data_attr,star_ratings,cv=cv)\n",
    "\n",
    "model_lr = lr().fit(data_attr,star_ratings)\n",
    "predict = model_lr.predict(data_attr)\n",
    "resid = predict-star_ratings"
   ]
  },
  {
   "cell_type": "code",
   "execution_count": 205,
   "metadata": {},
   "outputs": [
    {
     "name": "stdout",
     "output_type": "stream",
     "text": [
      "RandomForestRegressor(bootstrap=True, criterion='mse', max_depth=30,\n",
      "           max_features='auto', max_leaf_nodes=None,\n",
      "           min_impurity_decrease=0.0, min_impurity_split=None,\n",
      "           min_samples_leaf=10, min_samples_split=2,\n",
      "           min_weight_fraction_leaf=0.0, n_estimators=100, n_jobs=1,\n",
      "           oob_score=False, random_state=42, verbose=0, warm_start=False)\n"
     ]
    }
   ],
   "source": [
    "from sklearn.ensemble import RandomForestRegressor\n",
    "from sklearn.model_selection import train_test_split, GridSearchCV, cross_val_score\n",
    "from sklearn import model_selection\n",
    "\n",
    "cv = model_selection.ShuffleSplit(n_splits = 20, test_size = 0.2, random_state=42)\n",
    "\n",
    "model_rf = RandomForestRegressor(random_state=42)\n",
    "param_grid = [{'n_estimators': [60,70,80,90,100],\n",
    "               'max_depth':[30,40],\n",
    "               'min_samples_leaf': [10,15,20]}]\n",
    "grid_search = GridSearchCV(model_rf, param_grid,n_jobs=-1,cv=cv)\n",
    "grid_search.fit(resid.reshape(-1, 1),star_ratings)\n",
    "print(grid_search.best_estimator_)"
   ]
  },
  {
   "cell_type": "code",
   "execution_count": 42,
   "metadata": {},
   "outputs": [],
   "source": [
    "class Estimator(base.BaseEstimator, base.TransformerMixin):\n",
    "    \n",
    "    def __init__(self,lr,rf):\n",
    "        self.lr = lr\n",
    "        self.rf = rf\n",
    "    \n",
    "    def fit(self, X, y):\n",
    "        pred = self.lr.fit(X,y).predict(X)\n",
    "        resid = y-pred\n",
    "        self.rf.fit(X,resid.reshape(-1,1))\n",
    "        return self\n",
    "   \n",
    "    def predict(self, X):        \n",
    "        return self.rf.predict(X)+self.lr.predict(X)\n",
    "        "
   ]
  },
  {
   "cell_type": "code",
   "execution_count": 45,
   "metadata": {},
   "outputs": [],
   "source": [
    "from sklearn.ensemble import RandomForestRegressor\n",
    "from sklearn.linear_model import LinearRegression\n",
    "rf =RandomForestRegressor(max_depth=30,\n",
    "                          min_samples_leaf=10, \n",
    "                          min_samples_split=2,\n",
    "                          n_estimators=100)\n",
    "lr = LinearRegression()"
   ]
  },
  {
   "cell_type": "code",
   "execution_count": 46,
   "metadata": {},
   "outputs": [
    {
     "name": "stderr",
     "output_type": "stream",
     "text": [
      "/opt/conda/envs/data3/lib/python3.6/site-packages/ipykernel_launcher.py:10: DataConversionWarning: A column-vector y was passed when a 1d array was expected. Please change the shape of y to (n_samples,), for example using ravel().\n",
      "  # Remove the CWD from sys.path while we load stuff.\n"
     ]
    }
   ],
   "source": [
    "attribute_est = Pipeline([('Col', ColumnSelectTransformer(['attributes'])),\n",
    "                           ('flat',flatten_dict()),                           \n",
    "                           ('Vectorizer',DictVectorizer(sparse=False)),\n",
    "                           ('lr&rf',Estimator(lr,rf))]).fit(data,star_ratings)"
   ]
  },
  {
   "cell_type": "markdown",
   "metadata": {},
   "source": [
    "## full_model"
   ]
  },
  {
   "cell_type": "markdown",
   "metadata": {},
   "source": [
    "Using a stacking method of linear regression, treat the output of previous model as features for the final model"
   ]
  },
  {
   "cell_type": "code",
   "execution_count": null,
   "metadata": {},
   "outputs": [],
   "source": [
    "class EstimatorTransformer(base.BaseEstimator, base.TransformerMixin):\n",
    "    \n",
    "    def __init__(self, estimator=estimator):\n",
    "        self.estimator=estimator\n",
    "    \n",
    "    def fit(self, X, y):\n",
    "        # Fit the stored estimator.\n",
    "        # Question: what should be returned?\n",
    "        \n",
    "        # if we use self.fit(X,y), it will be a dead-loop\n",
    "        (self.estimator).fit(X,y)\n",
    "        return self\n",
    "    \n",
    "    def transform(self, X):\n",
    "        # Use predict on the stored estimator as a \"transformation\".\n",
    "        # Be sure to return a 2-D array.\n",
    "        return np.array((self.estimator).predict(X)).reshape(-1,1)"
   ]
  },
  {
   "cell_type": "code",
   "execution_count": 89,
   "metadata": {},
   "outputs": [],
   "source": [
    "city_trans = EstimatorTransformer(estimator=city_est)\n",
    "lat_lon_trans = EstimatorTransformer(estimator=lat_long_est)\n",
    "cat_trans = EstimatorTransformer(estimator=category_est)\n",
    "attr_trans = EstimatorTransformer(estimator=attribute_est)"
   ]
  },
  {
   "cell_type": "code",
   "execution_count": 73,
   "metadata": {},
   "outputs": [],
   "source": [
    "from sklearn.pipeline import FeatureUnion\n",
    "\n",
    "union = FeatureUnion([('city',cityTransformer(city_est)),\n",
    "                      ('lat_long',latlongTransformer(lat_long_est)),\n",
    "                      ('category',catTransformer(category_est)),\n",
    "                      ('attribute',attrTransformer(attribute_est))\n",
    "        # FeatureUnions use the same syntax as Pipelines\n",
    "    ])"
   ]
  },
  {
   "cell_type": "code",
   "execution_count": 388,
   "metadata": {},
   "outputs": [],
   "source": [
    "full_est = LinearRegression().fit(unioun_output,star_ratings)"
   ]
  },
  {
   "cell_type": "code",
   "execution_count": 94,
   "metadata": {},
   "outputs": [
    {
     "name": "stderr",
     "output_type": "stream",
     "text": [
      "/opt/conda/envs/data3/lib/python3.6/site-packages/ipykernel_launcher.py:10: DataConversionWarning: A column-vector y was passed when a 1d array was expected. Please change the shape of y to (n_samples,), for example using ravel().\n",
      "  # Remove the CWD from sys.path while we load stuff.\n"
     ]
    }
   ],
   "source": [
    "full_est = Pipeline([('union',union),('lr',LinearRegression())]).fit(data,star_ratings)"
   ]
  }
 ],
 "metadata": {
  "kernelspec": {
   "display_name": "Python 3",
   "language": "python",
   "name": "python3"
  },
  "language_info": {
   "codemirror_mode": {
    "name": "ipython",
    "version": 3
   },
   "file_extension": ".py",
   "mimetype": "text/x-python",
   "name": "python",
   "nbconvert_exporter": "python",
   "pygments_lexer": "ipython3",
   "version": "3.5.2"
  },
  "nbclean": true
 },
 "nbformat": 4,
 "nbformat_minor": 1
}
